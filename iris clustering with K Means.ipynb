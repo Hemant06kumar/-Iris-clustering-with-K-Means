{
 "cells": [
  {
   "cell_type": "markdown",
   "metadata": {
    "colab_type": "text",
    "id": "xP4Se9XsPmTY"
   },
   "source": [
    "**Iris clustering**"
   ]
  },
  {
   "cell_type": "code",
   "execution_count": null,
   "metadata": {
    "colab": {},
    "colab_type": "code",
    "id": "SQB_O3MiPWW9"
   },
   "outputs": [],
   "source": [
    "#import libraries\n",
    "import pandas as pd\n",
    "import matplotlib.pyplot as plt"
   ]
  },
  {
   "cell_type": "code",
   "execution_count": null,
   "metadata": {
    "colab": {
     "base_uri": "https://localhost:8080/",
     "height": 113,
     "resources": {
      "http://localhost:8080/nbextensions/google.colab/files.js": {
       "data": "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",
       "headers": [
        [
         "content-type",
         "application/javascript"
        ]
       ],
       "ok": true,
       "status": 200,
       "status_text": ""
      }
     }
    },
    "colab_type": "code",
    "executionInfo": {
     "elapsed": 16709,
     "status": "ok",
     "timestamp": 1590467543397,
     "user": {
      "displayName": "The Why Not",
      "photoUrl": "",
      "userId": "02852769053317686568"
     },
     "user_tz": -330
    },
    "id": "q01F9Fw_PyoN",
    "outputId": "d99ee854-9add-4b4c-e129-68a52e6853e3"
   },
   "outputs": [
    {
     "data": {
      "text/html": [
       "\n",
       "     <input type=\"file\" id=\"files-8d496a79-0a69-4574-86cf-29d6663622aa\" name=\"files[]\" multiple disabled />\n",
       "     <output id=\"result-8d496a79-0a69-4574-86cf-29d6663622aa\">\n",
       "      Upload widget is only available when the cell has been executed in the\n",
       "      current browser session. Please rerun this cell to enable.\n",
       "      </output>\n",
       "      <script src=\"/nbextensions/google.colab/files.js\"></script> "
      ],
      "text/plain": [
       "<IPython.core.display.HTML object>"
      ]
     },
     "metadata": {
      "tags": []
     },
     "output_type": "display_data"
    },
    {
     "name": "stdout",
     "output_type": "stream",
     "text": [
      "Saving iris.csv to iris.csv\n"
     ]
    },
    {
     "data": {
      "text/plain": [
       "{'iris.csv': b'\"sepal.length\",\"sepal.width\",\"petal.length\",\"petal.width\",\"variety\"\\n5.1,3.5,1.4,.2,\"Setosa\"\\n4.9,3,1.4,.2,\"Setosa\"\\n4.7,3.2,1.3,.2,\"Setosa\"\\n4.6,3.1,1.5,.2,\"Setosa\"\\n5,3.6,1.4,.2,\"Setosa\"\\n5.4,3.9,1.7,.4,\"Setosa\"\\n4.6,3.4,1.4,.3,\"Setosa\"\\n5,3.4,1.5,.2,\"Setosa\"\\n4.4,2.9,1.4,.2,\"Setosa\"\\n4.9,3.1,1.5,.1,\"Setosa\"\\n5.4,3.7,1.5,.2,\"Setosa\"\\n4.8,3.4,1.6,.2,\"Setosa\"\\n4.8,3,1.4,.1,\"Setosa\"\\n4.3,3,1.1,.1,\"Setosa\"\\n5.8,4,1.2,.2,\"Setosa\"\\n5.7,4.4,1.5,.4,\"Setosa\"\\n5.4,3.9,1.3,.4,\"Setosa\"\\n5.1,3.5,1.4,.3,\"Setosa\"\\n5.7,3.8,1.7,.3,\"Setosa\"\\n5.1,3.8,1.5,.3,\"Setosa\"\\n5.4,3.4,1.7,.2,\"Setosa\"\\n5.1,3.7,1.5,.4,\"Setosa\"\\n4.6,3.6,1,.2,\"Setosa\"\\n5.1,3.3,1.7,.5,\"Setosa\"\\n4.8,3.4,1.9,.2,\"Setosa\"\\n5,3,1.6,.2,\"Setosa\"\\n5,3.4,1.6,.4,\"Setosa\"\\n5.2,3.5,1.5,.2,\"Setosa\"\\n5.2,3.4,1.4,.2,\"Setosa\"\\n4.7,3.2,1.6,.2,\"Setosa\"\\n4.8,3.1,1.6,.2,\"Setosa\"\\n5.4,3.4,1.5,.4,\"Setosa\"\\n5.2,4.1,1.5,.1,\"Setosa\"\\n5.5,4.2,1.4,.2,\"Setosa\"\\n4.9,3.1,1.5,.2,\"Setosa\"\\n5,3.2,1.2,.2,\"Setosa\"\\n5.5,3.5,1.3,.2,\"Setosa\"\\n4.9,3.6,1.4,.1,\"Setosa\"\\n4.4,3,1.3,.2,\"Setosa\"\\n5.1,3.4,1.5,.2,\"Setosa\"\\n5,3.5,1.3,.3,\"Setosa\"\\n4.5,2.3,1.3,.3,\"Setosa\"\\n4.4,3.2,1.3,.2,\"Setosa\"\\n5,3.5,1.6,.6,\"Setosa\"\\n5.1,3.8,1.9,.4,\"Setosa\"\\n4.8,3,1.4,.3,\"Setosa\"\\n5.1,3.8,1.6,.2,\"Setosa\"\\n4.6,3.2,1.4,.2,\"Setosa\"\\n5.3,3.7,1.5,.2,\"Setosa\"\\n5,3.3,1.4,.2,\"Setosa\"\\n7,3.2,4.7,1.4,\"Versicolor\"\\n6.4,3.2,4.5,1.5,\"Versicolor\"\\n6.9,3.1,4.9,1.5,\"Versicolor\"\\n5.5,2.3,4,1.3,\"Versicolor\"\\n6.5,2.8,4.6,1.5,\"Versicolor\"\\n5.7,2.8,4.5,1.3,\"Versicolor\"\\n6.3,3.3,4.7,1.6,\"Versicolor\"\\n4.9,2.4,3.3,1,\"Versicolor\"\\n6.6,2.9,4.6,1.3,\"Versicolor\"\\n5.2,2.7,3.9,1.4,\"Versicolor\"\\n5,2,3.5,1,\"Versicolor\"\\n5.9,3,4.2,1.5,\"Versicolor\"\\n6,2.2,4,1,\"Versicolor\"\\n6.1,2.9,4.7,1.4,\"Versicolor\"\\n5.6,2.9,3.6,1.3,\"Versicolor\"\\n6.7,3.1,4.4,1.4,\"Versicolor\"\\n5.6,3,4.5,1.5,\"Versicolor\"\\n5.8,2.7,4.1,1,\"Versicolor\"\\n6.2,2.2,4.5,1.5,\"Versicolor\"\\n5.6,2.5,3.9,1.1,\"Versicolor\"\\n5.9,3.2,4.8,1.8,\"Versicolor\"\\n6.1,2.8,4,1.3,\"Versicolor\"\\n6.3,2.5,4.9,1.5,\"Versicolor\"\\n6.1,2.8,4.7,1.2,\"Versicolor\"\\n6.4,2.9,4.3,1.3,\"Versicolor\"\\n6.6,3,4.4,1.4,\"Versicolor\"\\n6.8,2.8,4.8,1.4,\"Versicolor\"\\n6.7,3,5,1.7,\"Versicolor\"\\n6,2.9,4.5,1.5,\"Versicolor\"\\n5.7,2.6,3.5,1,\"Versicolor\"\\n5.5,2.4,3.8,1.1,\"Versicolor\"\\n5.5,2.4,3.7,1,\"Versicolor\"\\n5.8,2.7,3.9,1.2,\"Versicolor\"\\n6,2.7,5.1,1.6,\"Versicolor\"\\n5.4,3,4.5,1.5,\"Versicolor\"\\n6,3.4,4.5,1.6,\"Versicolor\"\\n6.7,3.1,4.7,1.5,\"Versicolor\"\\n6.3,2.3,4.4,1.3,\"Versicolor\"\\n5.6,3,4.1,1.3,\"Versicolor\"\\n5.5,2.5,4,1.3,\"Versicolor\"\\n5.5,2.6,4.4,1.2,\"Versicolor\"\\n6.1,3,4.6,1.4,\"Versicolor\"\\n5.8,2.6,4,1.2,\"Versicolor\"\\n5,2.3,3.3,1,\"Versicolor\"\\n5.6,2.7,4.2,1.3,\"Versicolor\"\\n5.7,3,4.2,1.2,\"Versicolor\"\\n5.7,2.9,4.2,1.3,\"Versicolor\"\\n6.2,2.9,4.3,1.3,\"Versicolor\"\\n5.1,2.5,3,1.1,\"Versicolor\"\\n5.7,2.8,4.1,1.3,\"Versicolor\"\\n6.3,3.3,6,2.5,\"Virginica\"\\n5.8,2.7,5.1,1.9,\"Virginica\"\\n7.1,3,5.9,2.1,\"Virginica\"\\n6.3,2.9,5.6,1.8,\"Virginica\"\\n6.5,3,5.8,2.2,\"Virginica\"\\n7.6,3,6.6,2.1,\"Virginica\"\\n4.9,2.5,4.5,1.7,\"Virginica\"\\n7.3,2.9,6.3,1.8,\"Virginica\"\\n6.7,2.5,5.8,1.8,\"Virginica\"\\n7.2,3.6,6.1,2.5,\"Virginica\"\\n6.5,3.2,5.1,2,\"Virginica\"\\n6.4,2.7,5.3,1.9,\"Virginica\"\\n6.8,3,5.5,2.1,\"Virginica\"\\n5.7,2.5,5,2,\"Virginica\"\\n5.8,2.8,5.1,2.4,\"Virginica\"\\n6.4,3.2,5.3,2.3,\"Virginica\"\\n6.5,3,5.5,1.8,\"Virginica\"\\n7.7,3.8,6.7,2.2,\"Virginica\"\\n7.7,2.6,6.9,2.3,\"Virginica\"\\n6,2.2,5,1.5,\"Virginica\"\\n6.9,3.2,5.7,2.3,\"Virginica\"\\n5.6,2.8,4.9,2,\"Virginica\"\\n7.7,2.8,6.7,2,\"Virginica\"\\n6.3,2.7,4.9,1.8,\"Virginica\"\\n6.7,3.3,5.7,2.1,\"Virginica\"\\n7.2,3.2,6,1.8,\"Virginica\"\\n6.2,2.8,4.8,1.8,\"Virginica\"\\n6.1,3,4.9,1.8,\"Virginica\"\\n6.4,2.8,5.6,2.1,\"Virginica\"\\n7.2,3,5.8,1.6,\"Virginica\"\\n7.4,2.8,6.1,1.9,\"Virginica\"\\n7.9,3.8,6.4,2,\"Virginica\"\\n6.4,2.8,5.6,2.2,\"Virginica\"\\n6.3,2.8,5.1,1.5,\"Virginica\"\\n6.1,2.6,5.6,1.4,\"Virginica\"\\n7.7,3,6.1,2.3,\"Virginica\"\\n6.3,3.4,5.6,2.4,\"Virginica\"\\n6.4,3.1,5.5,1.8,\"Virginica\"\\n6,3,4.8,1.8,\"Virginica\"\\n6.9,3.1,5.4,2.1,\"Virginica\"\\n6.7,3.1,5.6,2.4,\"Virginica\"\\n6.9,3.1,5.1,2.3,\"Virginica\"\\n5.8,2.7,5.1,1.9,\"Virginica\"\\n6.8,3.2,5.9,2.3,\"Virginica\"\\n6.7,3.3,5.7,2.5,\"Virginica\"\\n6.7,3,5.2,2.3,\"Virginica\"\\n6.3,2.5,5,1.9,\"Virginica\"\\n6.5,3,5.2,2,\"Virginica\"\\n6.2,3.4,5.4,2.3,\"Virginica\"\\n5.9,3,5.1,1.8,\"Virginica\"'}"
      ]
     },
     "execution_count": 2,
     "metadata": {
      "tags": []
     },
     "output_type": "execute_result"
    }
   ],
   "source": [
    "# uploading the dataset\n",
    "from google.colab import files\n",
    "files.upload()"
   ]
  },
  {
   "cell_type": "code",
   "execution_count": null,
   "metadata": {
    "colab": {
     "base_uri": "https://localhost:8080/",
     "height": 35
    },
    "colab_type": "code",
    "executionInfo": {
     "elapsed": 4312,
     "status": "ok",
     "timestamp": 1590467556351,
     "user": {
      "displayName": "The Why Not",
      "photoUrl": "",
      "userId": "02852769053317686568"
     },
     "user_tz": -330
    },
    "id": "oThqRBejQH6x",
    "outputId": "090bf2e6-ca88-4a9b-97b0-a569c302065f"
   },
   "outputs": [
    {
     "name": "stdout",
     "output_type": "stream",
     "text": [
      "iris.csv  sample_data\n"
     ]
    }
   ],
   "source": [
    "!ls"
   ]
  },
  {
   "cell_type": "code",
   "execution_count": null,
   "metadata": {
    "colab": {},
    "colab_type": "code",
    "id": "fJ_CJVBnQOGn"
   },
   "outputs": [],
   "source": [
    "iris = pd.read_csv('iris.csv') #storing the data frame to the variable 'iris'"
   ]
  },
  {
   "cell_type": "code",
   "execution_count": null,
   "metadata": {
    "colab": {
     "base_uri": "https://localhost:8080/",
     "height": 35
    },
    "colab_type": "code",
    "executionInfo": {
     "elapsed": 1543,
     "status": "ok",
     "timestamp": 1590467637798,
     "user": {
      "displayName": "The Why Not",
      "photoUrl": "",
      "userId": "02852769053317686568"
     },
     "user_tz": -330
    },
    "id": "gu5svELnQgUP",
    "outputId": "6ebc3004-ca1d-4fa7-afd2-3386b9a67b7d"
   },
   "outputs": [
    {
     "data": {
      "text/plain": [
       "pandas.core.frame.DataFrame"
      ]
     },
     "execution_count": 5,
     "metadata": {
      "tags": []
     },
     "output_type": "execute_result"
    }
   ],
   "source": [
    "type(iris)"
   ]
  },
  {
   "cell_type": "code",
   "execution_count": null,
   "metadata": {
    "colab": {
     "base_uri": "https://localhost:8080/",
     "height": 198
    },
    "colab_type": "code",
    "executionInfo": {
     "elapsed": 1546,
     "status": "ok",
     "timestamp": 1590467651254,
     "user": {
      "displayName": "The Why Not",
      "photoUrl": "",
      "userId": "02852769053317686568"
     },
     "user_tz": -330
    },
    "id": "AkhP_OdgQir9",
    "outputId": "e49cc1db-5840-474e-a3f4-29e6b84b06c1"
   },
   "outputs": [
    {
     "data": {
      "text/html": [
       "<div>\n",
       "<style scoped>\n",
       "    .dataframe tbody tr th:only-of-type {\n",
       "        vertical-align: middle;\n",
       "    }\n",
       "\n",
       "    .dataframe tbody tr th {\n",
       "        vertical-align: top;\n",
       "    }\n",
       "\n",
       "    .dataframe thead th {\n",
       "        text-align: right;\n",
       "    }\n",
       "</style>\n",
       "<table border=\"1\" class=\"dataframe\">\n",
       "  <thead>\n",
       "    <tr style=\"text-align: right;\">\n",
       "      <th></th>\n",
       "      <th>sepal.length</th>\n",
       "      <th>sepal.width</th>\n",
       "      <th>petal.length</th>\n",
       "      <th>petal.width</th>\n",
       "      <th>variety</th>\n",
       "    </tr>\n",
       "  </thead>\n",
       "  <tbody>\n",
       "    <tr>\n",
       "      <th>0</th>\n",
       "      <td>5.1</td>\n",
       "      <td>3.5</td>\n",
       "      <td>1.4</td>\n",
       "      <td>0.2</td>\n",
       "      <td>Setosa</td>\n",
       "    </tr>\n",
       "    <tr>\n",
       "      <th>1</th>\n",
       "      <td>4.9</td>\n",
       "      <td>3.0</td>\n",
       "      <td>1.4</td>\n",
       "      <td>0.2</td>\n",
       "      <td>Setosa</td>\n",
       "    </tr>\n",
       "    <tr>\n",
       "      <th>2</th>\n",
       "      <td>4.7</td>\n",
       "      <td>3.2</td>\n",
       "      <td>1.3</td>\n",
       "      <td>0.2</td>\n",
       "      <td>Setosa</td>\n",
       "    </tr>\n",
       "    <tr>\n",
       "      <th>3</th>\n",
       "      <td>4.6</td>\n",
       "      <td>3.1</td>\n",
       "      <td>1.5</td>\n",
       "      <td>0.2</td>\n",
       "      <td>Setosa</td>\n",
       "    </tr>\n",
       "    <tr>\n",
       "      <th>4</th>\n",
       "      <td>5.0</td>\n",
       "      <td>3.6</td>\n",
       "      <td>1.4</td>\n",
       "      <td>0.2</td>\n",
       "      <td>Setosa</td>\n",
       "    </tr>\n",
       "  </tbody>\n",
       "</table>\n",
       "</div>"
      ],
      "text/plain": [
       "   sepal.length  sepal.width  petal.length  petal.width variety\n",
       "0           5.1          3.5           1.4          0.2  Setosa\n",
       "1           4.9          3.0           1.4          0.2  Setosa\n",
       "2           4.7          3.2           1.3          0.2  Setosa\n",
       "3           4.6          3.1           1.5          0.2  Setosa\n",
       "4           5.0          3.6           1.4          0.2  Setosa"
      ]
     },
     "execution_count": 6,
     "metadata": {
      "tags": []
     },
     "output_type": "execute_result"
    }
   ],
   "source": [
    "iris.head()"
   ]
  },
  {
   "cell_type": "code",
   "execution_count": null,
   "metadata": {
    "colab": {
     "base_uri": "https://localhost:8080/",
     "height": 35
    },
    "colab_type": "code",
    "executionInfo": {
     "elapsed": 1490,
     "status": "ok",
     "timestamp": 1590467673966,
     "user": {
      "displayName": "The Why Not",
      "photoUrl": "",
      "userId": "02852769053317686568"
     },
     "user_tz": -330
    },
    "id": "wEVRVdYbQl-V",
    "outputId": "f22d2eea-9aff-4c94-93ae-c1a34b43b3a2"
   },
   "outputs": [
    {
     "data": {
      "text/plain": [
       "(150, 5)"
      ]
     },
     "execution_count": 7,
     "metadata": {
      "tags": []
     },
     "output_type": "execute_result"
    }
   ],
   "source": [
    "iris.shape"
   ]
  },
  {
   "cell_type": "markdown",
   "metadata": {
    "colab_type": "text",
    "id": "adW5RFFWQu8q"
   },
   "source": [
    "Remove the label from the dataset. That is, Variety column"
   ]
  },
  {
   "cell_type": "code",
   "execution_count": null,
   "metadata": {
    "colab": {},
    "colab_type": "code",
    "id": "LYXkMoozQriC"
   },
   "outputs": [],
   "source": [
    "iris_clustering = iris.drop(columns=['variety'])"
   ]
  },
  {
   "cell_type": "code",
   "execution_count": null,
   "metadata": {
    "colab": {},
    "colab_type": "code",
    "id": "GLZ68VLFQ8kP"
   },
   "outputs": [],
   "source": [
    "iris.drop?"
   ]
  },
  {
   "cell_type": "code",
   "execution_count": null,
   "metadata": {
    "colab": {
     "base_uri": "https://localhost:8080/",
     "height": 198
    },
    "colab_type": "code",
    "executionInfo": {
     "elapsed": 1664,
     "status": "ok",
     "timestamp": 1590467778286,
     "user": {
      "displayName": "The Why Not",
      "photoUrl": "",
      "userId": "02852769053317686568"
     },
     "user_tz": -330
    },
    "id": "4gjE_hKrQ_Ip",
    "outputId": "f805ae22-c326-46b8-8e25-4064df1007d3"
   },
   "outputs": [
    {
     "data": {
      "text/html": [
       "<div>\n",
       "<style scoped>\n",
       "    .dataframe tbody tr th:only-of-type {\n",
       "        vertical-align: middle;\n",
       "    }\n",
       "\n",
       "    .dataframe tbody tr th {\n",
       "        vertical-align: top;\n",
       "    }\n",
       "\n",
       "    .dataframe thead th {\n",
       "        text-align: right;\n",
       "    }\n",
       "</style>\n",
       "<table border=\"1\" class=\"dataframe\">\n",
       "  <thead>\n",
       "    <tr style=\"text-align: right;\">\n",
       "      <th></th>\n",
       "      <th>sepal.length</th>\n",
       "      <th>sepal.width</th>\n",
       "      <th>petal.length</th>\n",
       "      <th>petal.width</th>\n",
       "    </tr>\n",
       "  </thead>\n",
       "  <tbody>\n",
       "    <tr>\n",
       "      <th>0</th>\n",
       "      <td>5.1</td>\n",
       "      <td>3.5</td>\n",
       "      <td>1.4</td>\n",
       "      <td>0.2</td>\n",
       "    </tr>\n",
       "    <tr>\n",
       "      <th>1</th>\n",
       "      <td>4.9</td>\n",
       "      <td>3.0</td>\n",
       "      <td>1.4</td>\n",
       "      <td>0.2</td>\n",
       "    </tr>\n",
       "    <tr>\n",
       "      <th>2</th>\n",
       "      <td>4.7</td>\n",
       "      <td>3.2</td>\n",
       "      <td>1.3</td>\n",
       "      <td>0.2</td>\n",
       "    </tr>\n",
       "    <tr>\n",
       "      <th>3</th>\n",
       "      <td>4.6</td>\n",
       "      <td>3.1</td>\n",
       "      <td>1.5</td>\n",
       "      <td>0.2</td>\n",
       "    </tr>\n",
       "    <tr>\n",
       "      <th>4</th>\n",
       "      <td>5.0</td>\n",
       "      <td>3.6</td>\n",
       "      <td>1.4</td>\n",
       "      <td>0.2</td>\n",
       "    </tr>\n",
       "  </tbody>\n",
       "</table>\n",
       "</div>"
      ],
      "text/plain": [
       "   sepal.length  sepal.width  petal.length  petal.width\n",
       "0           5.1          3.5           1.4          0.2\n",
       "1           4.9          3.0           1.4          0.2\n",
       "2           4.7          3.2           1.3          0.2\n",
       "3           4.6          3.1           1.5          0.2\n",
       "4           5.0          3.6           1.4          0.2"
      ]
     },
     "execution_count": 10,
     "metadata": {
      "tags": []
     },
     "output_type": "execute_result"
    }
   ],
   "source": [
    "iris_clustering.head()"
   ]
  },
  {
   "cell_type": "markdown",
   "metadata": {
    "colab_type": "text",
    "id": "Q1_C7wvjRJaO"
   },
   "source": [
    "Selecting the features - sepal width and petal width"
   ]
  },
  {
   "cell_type": "code",
   "execution_count": null,
   "metadata": {
    "colab": {},
    "colab_type": "code",
    "id": "JGvZ0mHWRE98"
   },
   "outputs": [],
   "source": [
    "X = iris_clustering.iloc[:,[1,3]].values"
   ]
  },
  {
   "cell_type": "code",
   "execution_count": null,
   "metadata": {
    "colab": {},
    "colab_type": "code",
    "id": "lCDucqXTRWjw"
   },
   "outputs": [],
   "source": [
    "print(X)"
   ]
  },
  {
   "cell_type": "markdown",
   "metadata": {
    "colab_type": "text",
    "id": "Ql-f92eaRgbQ"
   },
   "source": [
    "**Choosing the number of Clusters**\n"
   ]
  },
  {
   "cell_type": "code",
   "execution_count": null,
   "metadata": {
    "colab": {},
    "colab_type": "code",
    "id": "6FEFqjTiRZoZ"
   },
   "outputs": [],
   "source": [
    "# Elbow method to determine the optimum number of clusters\n",
    "from sklearn.cluster import KMeans\n",
    "wcss = []\n",
    "\n",
    "for i in range(1,11):\n",
    "  kmeans = KMeans(n_clusters = i, init = 'k-means++', random_state = 42)\n",
    "  kmeans.fit(X)\n",
    "  #append the wcss values to the list. (kmeans.inertia_ returns the wcss value for an initiaalized cluster)\n",
    "  wcss.append(kmeans.inertia_)"
   ]
  },
  {
   "cell_type": "markdown",
   "metadata": {
    "colab_type": "text",
    "id": "n0aYa21XScgL"
   },
   "source": [
    "**Plotting the elbow graph to find optimum number of cluster**"
   ]
  },
  {
   "cell_type": "code",
   "execution_count": null,
   "metadata": {
    "colab": {
     "base_uri": "https://localhost:8080/",
     "height": 357
    },
    "colab_type": "code",
    "executionInfo": {
     "elapsed": 1381,
     "status": "ok",
     "timestamp": 1590468250303,
     "user": {
      "displayName": "The Why Not",
      "photoUrl": "",
      "userId": "02852769053317686568"
     },
     "user_tz": -330
    },
    "id": "XAN-_hxhSape",
    "outputId": "6ef7bd21-c95c-42d2-b4d7-a70a6ac12bed"
   },
   "outputs": [
    {
     "name": "stderr",
     "output_type": "stream",
     "text": [
      "/usr/local/lib/python3.6/dist-packages/statsmodels/tools/_testing.py:19: FutureWarning: pandas.util.testing is deprecated. Use the functions in the public API at pandas.testing instead.\n",
      "  import pandas.util.testing as tm\n"
     ]
    },
    {
     "data": {
      "image/png": "[encoded data removed]",
      "text/plain": [
       "<Figure size 432x288 with 1 Axes>"
      ]
     },
     "metadata": {
      "tags": []
     },
     "output_type": "display_data"
    }
   ],
   "source": [
    "# elbow graph\n",
    "import seaborn as sns\n",
    "sns.set()\n",
    "plt.plot(range(1,11), wcss)\n",
    "plt.title('Elbow point graph')\n",
    "plt.xlabel('Number of clusters')\n",
    "plt.ylabel('WCSS')\n",
    "plt.show()"
   ]
  },
  {
   "cell_type": "markdown",
   "metadata": {
    "colab_type": "text",
    "id": "AozdhoPCS9Wb"
   },
   "source": [
    "Thus the optimum number of cluster is 3"
   ]
  },
  {
   "cell_type": "code",
   "execution_count": null,
   "metadata": {
    "colab": {
     "base_uri": "https://localhost:8080/",
     "height": 108
    },
    "colab_type": "code",
    "executionInfo": {
     "elapsed": 1401,
     "status": "ok",
     "timestamp": 1590468416356,
     "user": {
      "displayName": "The Why Not",
      "photoUrl": "",
      "userId": "02852769053317686568"
     },
     "user_tz": -330
    },
    "id": "pkWyqlvhS4Pq",
    "outputId": "bc3ff86a-ce88-4289-8cf5-c493ee528384"
   },
   "outputs": [
    {
     "name": "stdout",
     "output_type": "stream",
     "text": [
      "[0 0 0 0 0 0 0 0 0 0 0 0 0 0 0 0 0 0 0 0 0 0 0 0 0 0 0 0 0 0 0 0 0 0 0 0 0\n",
      " 0 0 0 0 2 0 0 0 0 0 0 0 0 2 2 2 2 2 2 1 2 2 2 2 2 2 2 2 2 2 2 2 2 1 2 2 2\n",
      " 2 2 2 1 2 2 2 2 2 2 2 1 2 2 2 2 2 2 2 2 2 2 2 2 2 2 1 1 1 1 1 1 2 1 2 1 1\n",
      " 1 1 1 1 1 1 1 1 2 1 1 1 1 1 1 1 1 1 2 1 1 1 2 2 1 1 1 1 1 1 1 1 1 1 1 1 1\n",
      " 1 1]\n"
     ]
    }
   ],
   "source": [
    "# initializing the K-Means with optimum number of cluster(3)\n",
    "kmeans = KMeans(n_clusters=3, init = 'k-means++', random_state = 0)\n",
    "# fitting the datapoints to the K-means function and returning a label for each data points\n",
    "y = kmeans.fit_predict(X)\n",
    "print(y)"
   ]
  },
  {
   "cell_type": "markdown",
   "metadata": {
    "colab_type": "text",
    "id": "79h1w5F_Tj36"
   },
   "source": [
    "**Visualizing the Clusters**"
   ]
  },
  {
   "cell_type": "code",
   "execution_count": null,
   "metadata": {
    "colab": {},
    "colab_type": "code",
    "id": "gFYxP2xMT_fs"
   },
   "outputs": [],
   "source": [
    "plt.scatter?"
   ]
  },
  {
   "cell_type": "code",
   "execution_count": null,
   "metadata": {
    "colab": {
     "base_uri": "https://localhost:8080/",
     "height": 301
    },
    "colab_type": "code",
    "executionInfo": {
     "elapsed": 1404,
     "status": "ok",
     "timestamp": 1590468893366,
     "user": {
      "displayName": "The Why Not",
      "photoUrl": "",
      "userId": "02852769053317686568"
     },
     "user_tz": -330
    },
    "id": "KvwoMwxTTgzC",
    "outputId": "ae1c0b3d-a73e-408b-c88e-0d9310bbe248"
   },
   "outputs": [
    {
     "data": {
      "image/png": "[encoded data removed]",
      "text/plain": [
       "<Figure size 432x288 with 1 Axes>"
      ]
     },
     "metadata": {
      "tags": []
     },
     "output_type": "display_data"
    }
   ],
   "source": [
    "# scatter plot for (x,y) with label 0 as cluster 1 in color red\n",
    "plt.scatter( X[y==0,0], X[y==0,1], s = 50, c = 'red', label = 'cluster 1')\n",
    "# scatter plot for (x,y) with label 1 as cluster 2 in color blue\n",
    "plt.scatter( X[y==1,0], X[y==1,1], s=50, c='blue', label='cluster 2')\n",
    "# scatter plot for (x,y) with label 2 as cluster 3 in color green\n",
    "plt.scatter( X[y==2,0], X[y==2,1], s=50, c='green', label = 'cluster 3')\n",
    "\n",
    "#plotting the centroid of the clusters\n",
    "plt.scatter(kmeans.cluster_centers_[:,0], kmeans.cluster_centers_[:,1], s=100, c='cyan', label = 'centroids')\n",
    "\n",
    "plt.title('Iris flower clusters')\n",
    "plt.xlabel('Sepal width')\n",
    "plt.ylabel('Petal width')\n",
    "plt.legend()\n",
    "plt.show()"
   ]
  },
  {
   "cell_type": "code",
   "execution_count": null,
   "metadata": {
    "colab": {},
    "colab_type": "code",
    "id": "rfGoTN9zVVJ8"
   },
   "outputs": [],
   "source": []
  }
 ],
 "metadata": {
  "colab": {
   "name": "iris clustering with K Means.ipynb",
   "provenance": []
  },
  "kernelspec": {
   "display_name": "Python 3 (ipykernel)",
   "language": "python",
   "name": "python3"
  },
  "language_info": {
   "codemirror_mode": {
    "name": "ipython",
    "version": 3
   },
   "file_extension": ".py",
   "mimetype": "text/x-python",
   "name": "python",
   "nbconvert_exporter": "python",
   "pygments_lexer": "ipython3",
   "version": "3.9.7"
  }
 },
 "nbformat": 4,
 "nbformat_minor": 1
}
